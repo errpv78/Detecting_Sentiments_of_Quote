{
  "nbformat": 4,
  "nbformat_minor": 0,
  "metadata": {
    "colab": {
      "name": "Simple_nn.ipynb",
      "provenance": [],
      "collapsed_sections": [],
      "authorship_tag": "ABX9TyNILn3JN/xERLbTKU90rnGe",
      "include_colab_link": true
    },
    "kernelspec": {
      "name": "python3",
      "display_name": "Python 3"
    },
    "accelerator": "GPU"
  },
  "cells": [
    {
      "cell_type": "markdown",
      "metadata": {
        "id": "view-in-github",
        "colab_type": "text"
      },
      "source": [
        "<a href=\"https://colab.research.google.com/github/errpv78/Detecting_Sentiments_of_Quote/blob/master/Simple_nn.ipynb\" target=\"_parent\"><img src=\"https://colab.research.google.com/assets/colab-badge.svg\" alt=\"Open In Colab\"/></a>"
      ]
    },
    {
      "cell_type": "markdown",
      "metadata": {
        "id": "Xdt3-SniMp2D",
        "colab_type": "text"
      },
      "source": [
        "# Connecting with google drive for saving the model\n",
        "Dataset used: Imdb movie reviews\n",
        "\n",
        "Downloading dataset into Google drive directly from kaggle and importing data: https://medium.com/analytics-vidhya/how-to-fetch-kaggle-datasets-into-google-colab-ea682569851a"
      ]
    },
    {
      "cell_type": "code",
      "metadata": {
        "id": "13u8H6aMMknr",
        "colab_type": "code",
        "colab": {
          "base_uri": "https://localhost:8080/",
          "height": 54
        },
        "outputId": "ee936460-2faa-4b94-d2dd-baa0249f3910"
      },
      "source": [
        "from google.colab import drive\n",
        "drive.mount('/content/gdrive')"
      ],
      "execution_count": 45,
      "outputs": [
        {
          "output_type": "stream",
          "text": [
            "Drive already mounted at /content/gdrive; to attempt to forcibly remount, call drive.mount(\"/content/gdrive\", force_remount=True).\n"
          ],
          "name": "stdout"
        }
      ]
    },
    {
      "cell_type": "code",
      "metadata": {
        "id": "OiqCGdhjM6kq",
        "colab_type": "code",
        "colab": {}
      },
      "source": [
        "import os\n",
        "os.environ['KAGGLE_CONFIG_DIR'] = \"/content/gdrive/My Drive/Kaggle\"\n",
        "# /content/gdrive/My Drive/Kaggle is the path where kaggle.json is present in the Google Drive"
      ],
      "execution_count": 46,
      "outputs": []
    },
    {
      "cell_type": "code",
      "metadata": {
        "id": "qVo53R73M60w",
        "colab_type": "code",
        "colab": {
          "base_uri": "https://localhost:8080/",
          "height": 34
        },
        "outputId": "d9bf2865-e535-40b4-a49d-fdb5fced1a2f"
      },
      "source": [
        "#changing the working directory\n",
        "%cd /content/gdrive/My Drive/Kaggle\n",
        "#Check the present working directory using pwd command"
      ],
      "execution_count": 47,
      "outputs": [
        {
          "output_type": "stream",
          "text": [
            "/content/gdrive/My Drive/Kaggle\n"
          ],
          "name": "stdout"
        }
      ]
    },
    {
      "cell_type": "code",
      "metadata": {
        "id": "28YnJGLpM-XE",
        "colab_type": "code",
        "colab": {
          "base_uri": "https://localhost:8080/",
          "height": 34
        },
        "outputId": "6f1d5120-f550-4419-8acf-9f4cd088e858"
      },
      "source": [
        "!ls"
      ],
      "execution_count": 48,
      "outputs": [
        {
          "output_type": "stream",
          "text": [
            "best_model_state.bin  kaggle.json  training.1600000.processed.noemoticon.csv\n"
          ],
          "name": "stdout"
        }
      ]
    },
    {
      "cell_type": "code",
      "metadata": {
        "id": "QZLXHTJ-Mi6Z",
        "colab_type": "code",
        "colab": {}
      },
      "source": [
        "# Importing necessary packages\n",
        "from tensorflow.keras.datasets import imdb\n",
        "from tensorflow.keras.preprocessing.sequence import pad_sequences\n",
        "from tensorflow.keras.models import Sequential\n",
        "from tensorflow.keras.layers import Dense, Embedding, GlobalAveragePooling1D\n",
        "import matplotlib.pyplot as plt\n",
        "import tensorflow as tf\n",
        "import pandas as pd\n",
        "%matplotlib inline"
      ],
      "execution_count": null,
      "outputs": []
    },
    {
      "cell_type": "code",
      "metadata": {
        "id": "wwyi_ENuBDgy",
        "colab_type": "code",
        "colab": {}
      },
      "source": [
        "# Checking if GPU available\n",
        "physical_devices = tf.config.experimental.list_physical_devices(\"GPU\")\n",
        "tf.config.experimental.set_memory_growth(physical_devices[0], True)"
      ],
      "execution_count": null,
      "outputs": []
    },
    {
      "cell_type": "code",
      "metadata": {
        "id": "9Vigf0iGCDSl",
        "colab_type": "code",
        "colab": {}
      },
      "source": [
        "# Loading the imdb dataset\n",
        "(x_train, y_train), (x_test, y_test) = imdb.load_data(num_words = 10000)"
      ],
      "execution_count": null,
      "outputs": []
    },
    {
      "cell_type": "code",
      "metadata": {
        "id": "0m-1PwMWC4HY",
        "colab_type": "code",
        "colab": {
          "base_uri": "https://localhost:8080/",
          "height": 71
        },
        "outputId": "f114aaf0-b936-484e-8c64-19f18321fbca"
      },
      "source": [
        "# Text is already encoded\n",
        "print(x_train[0], y_train[0])\n",
        "class_names = ['Negative', 'Positive']\n",
        "\n",
        "# Downloading the word to index dictionary\n",
        "word_index = imdb.get_word_index()\n",
        "print(word_index['the'])"
      ],
      "execution_count": null,
      "outputs": [
        {
          "output_type": "stream",
          "text": [
            "[1, 14, 22, 16, 43, 530, 973, 1622, 1385, 65, 458, 4468, 66, 3941, 4, 173, 36, 256, 5, 25, 100, 43, 838, 112, 50, 670, 2, 9, 35, 480, 284, 5, 150, 4, 172, 112, 167, 2, 336, 385, 39, 4, 172, 4536, 1111, 17, 546, 38, 13, 447, 4, 192, 50, 16, 6, 147, 2025, 19, 14, 22, 4, 1920, 4613, 469, 4, 22, 71, 87, 12, 16, 43, 530, 38, 76, 15, 13, 1247, 4, 22, 17, 515, 17, 12, 16, 626, 18, 2, 5, 62, 386, 12, 8, 316, 8, 106, 5, 4, 2223, 5244, 16, 480, 66, 3785, 33, 4, 130, 12, 16, 38, 619, 5, 25, 124, 51, 36, 135, 48, 25, 1415, 33, 6, 22, 12, 215, 28, 77, 52, 5, 14, 407, 16, 82, 2, 8, 4, 107, 117, 5952, 15, 256, 4, 2, 7, 3766, 5, 723, 36, 71, 43, 530, 476, 26, 400, 317, 46, 7, 4, 2, 1029, 13, 104, 88, 4, 381, 15, 297, 98, 32, 2071, 56, 26, 141, 6, 194, 7486, 18, 4, 226, 22, 21, 134, 476, 26, 480, 5, 144, 30, 5535, 18, 51, 36, 28, 224, 92, 25, 104, 4, 226, 65, 16, 38, 1334, 88, 12, 16, 283, 5, 16, 4472, 113, 103, 32, 15, 16, 5345, 19, 178, 32] 1\n",
            "1\n"
          ],
          "name": "stdout"
        }
      ]
    },
    {
      "cell_type": "code",
      "metadata": {
        "id": "rcog3d9fDUcp",
        "colab_type": "code",
        "colab": {
          "base_uri": "https://localhost:8080/",
          "height": 85
        },
        "outputId": "bb7d1b78-e58a-49eb-c8de-098eb529da5a"
      },
      "source": [
        "print(x_train.shape)\n",
        "print(y_train.shape)\n",
        "print(x_test.shape)\n",
        "print(y_test.shape)"
      ],
      "execution_count": null,
      "outputs": [
        {
          "output_type": "stream",
          "text": [
            "(25000,)\n",
            "(25000,)\n",
            "(25000,)\n",
            "(25000,)\n"
          ],
          "name": "stdout"
        }
      ]
    },
    {
      "cell_type": "code",
      "metadata": {
        "id": "cbgA5kcXDfLB",
        "colab_type": "code",
        "colab": {
          "base_uri": "https://localhost:8080/",
          "height": 71
        },
        "outputId": "c38daa9d-247c-4592-f2ef-25dcf3419754"
      },
      "source": [
        "# Creating index to word dictionary\n",
        "reverse_word_idx = dict((value, key) for key, value in word_index.items())\n",
        "\n",
        "# Decoding function to get review from encoded review\n",
        "def decode_review(s):\n",
        "    rev = ''\n",
        "    for i in s:\n",
        "        rev+=reverse_word_idx[i]\n",
        "        rev+=' '\n",
        "    return rev[:-1]\n",
        "\n",
        "print(decode_review(x_train[0]))\n",
        "print(len(x_train[0]))    "
      ],
      "execution_count": null,
      "outputs": [
        {
          "output_type": "stream",
          "text": [
            "the as you with out themselves powerful lets loves their becomes reaching had journalist of lot from anyone to have after out atmosphere never more room and it so heart shows to years of every never going and help moments or of every chest visual movie except her was several of enough more with is now current film as you of mine potentially unfortunately of you than him that with out themselves her get for was camp of you movie sometimes movie that with scary but and to story wonderful that in seeing in character to of 70s musicians with heart had shadows they of here that with her serious to have does when from why what have critics they is you that isn't one will very to as itself with other and in of seen over landed for anyone of and br show's to whether from than out themselves history he name half some br of and odd was two most of mean for 1 any an boat she he should is thought frog but of script you not while history he heart to real at barrel but when from one bit then have two of script their with her nobody most that with wasn't to with armed acting watch an for with heartfelt film want an\n",
            "218\n"
          ],
          "name": "stdout"
        }
      ]
    },
    {
      "cell_type": "code",
      "metadata": {
        "id": "PyQDSpIME1cm",
        "colab_type": "code",
        "colab": {
          "base_uri": "https://localhost:8080/",
          "height": 51
        },
        "outputId": "dd635cd9-e26d-4a51-ce32-c184c330203b"
      },
      "source": [
        "# Padding examples with small length to make equal length examples of 256\n",
        "# pad_sequences: \n",
        "\"\"\"This function transforms a list (of length num_samples) of sequences (lists of integers) into\n",
        " a 2D Numpy array of shape (num_samples, num_timesteps). num_timesteps is either the maxlen \n",
        " argument if provided, or the length of the longest sequence in the list.\n",
        "Sequences that are shorter than num_timesteps are padded with value until they are num_timesteps\n",
        " long.\n",
        "Sequences longer than num_timesteps are truncated so that they fit the desired length.\n",
        "The position where padding or truncation happens is determined by the arguments padding and\n",
        " truncating, respectively. Pre-padding or removing values from the beginning of the sequence is\n",
        "  the default.\"\"\"\n",
        "m = 0\n",
        "for i in x_train:\n",
        "    m=max(m, len(i))\n",
        "for i in x_test:\n",
        "    m=max(m, len(i))\n",
        "print('Initial max length', m)\n",
        "\n",
        "x_train = pad_sequences(x_train, value = word_index['the'], padding = 'post', maxlen = 256, truncating='post')\n",
        "x_test = pad_sequences(x_test, value = word_index['the'], padding = 'post', maxlen = 256, truncating='post')\n",
        "\n",
        "m = 0\n",
        "for i in x_train:\n",
        "    m=max(m, len(i))\n",
        "for i in x_test:\n",
        "    m=max(m, len(i))    \n",
        "print(m)"
      ],
      "execution_count": null,
      "outputs": [
        {
          "output_type": "stream",
          "text": [
            "Initial max length 2494\n",
            "256\n"
          ],
          "name": "stdout"
        }
      ]
    },
    {
      "cell_type": "code",
      "metadata": {
        "id": "YV7OLBS-GERj",
        "colab_type": "code",
        "colab": {
          "base_uri": "https://localhost:8080/",
          "height": 289
        },
        "outputId": "8e68986a-df98-4044-acf2-4cb3aaafd282"
      },
      "source": [
        "# Defining the model \n",
        "# Embedding: Turns positive integers (indexes) into dense vectors of fixed size. This layer can\n",
        "# only be used as the first layer in a model.\n",
        "# Global average polling 1D: Global average pooling operation for temporal data.\n",
        "\n",
        "def create_model():\n",
        "    model = Sequential([\n",
        "        Embedding(10000, 64),  # 10000: size of vocabulary; 64: output dimension of embedding.\n",
        "        GlobalAveragePooling1D(),  \n",
        "        Dense(16, activation = 'relu'),  # For inputting 16 dimension word embeddings\n",
        "        Dense(1, activation = 'sigmoid') # For outputting either as positive or negative\n",
        "    ])\n",
        "\n",
        "    model.compile(\n",
        "        loss = 'binary_crossentropy', \n",
        "        optimizer = 'adam',\n",
        "        metrics = ['accuracy']\n",
        "    )\n",
        "\n",
        "    model.summary()\n",
        "    return model\n",
        "\n",
        "model = create_model()"
      ],
      "execution_count": 43,
      "outputs": [
        {
          "output_type": "stream",
          "text": [
            "Model: \"sequential_2\"\n",
            "_________________________________________________________________\n",
            "Layer (type)                 Output Shape              Param #   \n",
            "=================================================================\n",
            "embedding_2 (Embedding)      (None, None, 64)          640000    \n",
            "_________________________________________________________________\n",
            "global_average_pooling1d_2 ( (None, 64)                0         \n",
            "_________________________________________________________________\n",
            "dense_4 (Dense)              (None, 16)                1040      \n",
            "_________________________________________________________________\n",
            "dense_5 (Dense)              (None, 1)                 17        \n",
            "=================================================================\n",
            "Total params: 641,057\n",
            "Trainable params: 641,057\n",
            "Non-trainable params: 0\n",
            "_________________________________________________________________\n"
          ],
          "name": "stdout"
        }
      ]
    },
    {
      "cell_type": "code",
      "metadata": {
        "id": "8fUt9SyiIkmp",
        "colab_type": "code",
        "colab": {
          "base_uri": "https://localhost:8080/",
          "height": 1000
        },
        "outputId": "90e98f4e-5211-4c73-ead4-c2ae26a811a7"
      },
      "source": [
        "checkpoint_path = \"training_simple_nn/cp.ckpt\"\n",
        "checkpoint_dir = os.path.dirname(checkpoint_path)\n",
        "\n",
        "# Create a callback that saves the model's weights\n",
        "cp_callback = tf.keras.callbacks.ModelCheckpoint(filepath=checkpoint_path,\n",
        "                                                 save_weights_only=True,\n",
        "                                                 verbose=1)\n",
        "\n",
        "\n",
        "h = model.fit(\n",
        "    x_train, y_train,\n",
        "    validation_split = 0.2,\n",
        "    epochs=20,\n",
        "    callbacks = [cp_callback]  # Passing callback to training\n",
        ")"
      ],
      "execution_count": 49,
      "outputs": [
        {
          "output_type": "stream",
          "text": [
            "Epoch 1/20\n",
            "625/625 [==============================] - ETA: 0s - loss: 0.5339 - accuracy: 0.7480\n",
            "Epoch 00001: saving model to training_simple_nn/cp.ckpt\n",
            "625/625 [==============================] - 5s 8ms/step - loss: 0.5339 - accuracy: 0.7480 - val_loss: 0.3489 - val_accuracy: 0.8538\n",
            "Epoch 2/20\n",
            "623/625 [============================>.] - ETA: 0s - loss: 0.2687 - accuracy: 0.8961\n",
            "Epoch 00002: saving model to training_simple_nn/cp.ckpt\n",
            "625/625 [==============================] - 5s 8ms/step - loss: 0.2691 - accuracy: 0.8960 - val_loss: 0.2993 - val_accuracy: 0.8778\n",
            "Epoch 3/20\n",
            "625/625 [==============================] - ETA: 0s - loss: 0.2044 - accuracy: 0.9232\n",
            "Epoch 00003: saving model to training_simple_nn/cp.ckpt\n",
            "625/625 [==============================] - 5s 8ms/step - loss: 0.2044 - accuracy: 0.9232 - val_loss: 0.2964 - val_accuracy: 0.8822\n",
            "Epoch 4/20\n",
            "625/625 [==============================] - ETA: 0s - loss: 0.1674 - accuracy: 0.9398\n",
            "Epoch 00004: saving model to training_simple_nn/cp.ckpt\n",
            "625/625 [==============================] - 5s 8ms/step - loss: 0.1674 - accuracy: 0.9398 - val_loss: 0.3116 - val_accuracy: 0.8798\n",
            "Epoch 5/20\n",
            "621/625 [============================>.] - ETA: 0s - loss: 0.1385 - accuracy: 0.9530\n",
            "Epoch 00005: saving model to training_simple_nn/cp.ckpt\n",
            "625/625 [==============================] - 5s 9ms/step - loss: 0.1385 - accuracy: 0.9530 - val_loss: 0.3415 - val_accuracy: 0.8734\n",
            "Epoch 6/20\n",
            "621/625 [============================>.] - ETA: 0s - loss: 0.1153 - accuracy: 0.9630\n",
            "Epoch 00006: saving model to training_simple_nn/cp.ckpt\n",
            "625/625 [==============================] - 5s 8ms/step - loss: 0.1153 - accuracy: 0.9629 - val_loss: 0.3638 - val_accuracy: 0.8730\n",
            "Epoch 7/20\n",
            "623/625 [============================>.] - ETA: 0s - loss: 0.0978 - accuracy: 0.9697\n",
            "Epoch 00007: saving model to training_simple_nn/cp.ckpt\n",
            "625/625 [==============================] - 5s 9ms/step - loss: 0.0979 - accuracy: 0.9695 - val_loss: 0.3968 - val_accuracy: 0.8702\n",
            "Epoch 8/20\n",
            "622/625 [============================>.] - ETA: 0s - loss: 0.0805 - accuracy: 0.9772\n",
            "Epoch 00008: saving model to training_simple_nn/cp.ckpt\n",
            "625/625 [==============================] - 5s 8ms/step - loss: 0.0805 - accuracy: 0.9772 - val_loss: 0.4204 - val_accuracy: 0.8744\n",
            "Epoch 9/20\n",
            "619/625 [============================>.] - ETA: 0s - loss: 0.0681 - accuracy: 0.9813\n",
            "Epoch 00009: saving model to training_simple_nn/cp.ckpt\n",
            "625/625 [==============================] - 5s 8ms/step - loss: 0.0683 - accuracy: 0.9812 - val_loss: 0.4645 - val_accuracy: 0.8710\n",
            "Epoch 10/20\n",
            "622/625 [============================>.] - ETA: 0s - loss: 0.0588 - accuracy: 0.9840\n",
            "Epoch 00010: saving model to training_simple_nn/cp.ckpt\n",
            "625/625 [==============================] - 5s 9ms/step - loss: 0.0588 - accuracy: 0.9840 - val_loss: 0.5123 - val_accuracy: 0.8704\n",
            "Epoch 11/20\n",
            "625/625 [==============================] - ETA: 0s - loss: 0.0473 - accuracy: 0.9881\n",
            "Epoch 00011: saving model to training_simple_nn/cp.ckpt\n",
            "625/625 [==============================] - 5s 8ms/step - loss: 0.0473 - accuracy: 0.9881 - val_loss: 0.5640 - val_accuracy: 0.8664\n",
            "Epoch 12/20\n",
            "622/625 [============================>.] - ETA: 0s - loss: 0.0402 - accuracy: 0.9904\n",
            "Epoch 00012: saving model to training_simple_nn/cp.ckpt\n",
            "625/625 [==============================] - 5s 8ms/step - loss: 0.0403 - accuracy: 0.9904 - val_loss: 0.5747 - val_accuracy: 0.8680\n",
            "Epoch 13/20\n",
            "623/625 [============================>.] - ETA: 0s - loss: 0.0345 - accuracy: 0.9926\n",
            "Epoch 00013: saving model to training_simple_nn/cp.ckpt\n",
            "625/625 [==============================] - 5s 9ms/step - loss: 0.0345 - accuracy: 0.9926 - val_loss: 0.6162 - val_accuracy: 0.8646\n",
            "Epoch 14/20\n",
            "623/625 [============================>.] - ETA: 0s - loss: 0.0292 - accuracy: 0.9936\n",
            "Epoch 00014: saving model to training_simple_nn/cp.ckpt\n",
            "625/625 [==============================] - 5s 8ms/step - loss: 0.0292 - accuracy: 0.9936 - val_loss: 0.6508 - val_accuracy: 0.8638\n",
            "Epoch 15/20\n",
            "624/625 [============================>.] - ETA: 0s - loss: 0.0246 - accuracy: 0.9951\n",
            "Epoch 00015: saving model to training_simple_nn/cp.ckpt\n",
            "625/625 [==============================] - 5s 8ms/step - loss: 0.0246 - accuracy: 0.9952 - val_loss: 0.7610 - val_accuracy: 0.8638\n",
            "Epoch 16/20\n",
            "623/625 [============================>.] - ETA: 0s - loss: 0.0211 - accuracy: 0.9958\n",
            "Epoch 00016: saving model to training_simple_nn/cp.ckpt\n",
            "625/625 [==============================] - 5s 9ms/step - loss: 0.0211 - accuracy: 0.9958 - val_loss: 0.7403 - val_accuracy: 0.8598\n",
            "Epoch 17/20\n",
            "620/625 [============================>.] - ETA: 0s - loss: 0.0183 - accuracy: 0.9964\n",
            "Epoch 00017: saving model to training_simple_nn/cp.ckpt\n",
            "625/625 [==============================] - 5s 9ms/step - loss: 0.0182 - accuracy: 0.9964 - val_loss: 0.7869 - val_accuracy: 0.8580\n",
            "Epoch 18/20\n",
            "619/625 [============================>.] - ETA: 0s - loss: 0.0152 - accuracy: 0.9971\n",
            "Epoch 00018: saving model to training_simple_nn/cp.ckpt\n",
            "625/625 [==============================] - 5s 8ms/step - loss: 0.0152 - accuracy: 0.9970 - val_loss: 0.8794 - val_accuracy: 0.8580\n",
            "Epoch 19/20\n",
            "625/625 [==============================] - ETA: 0s - loss: 0.0151 - accuracy: 0.9969\n",
            "Epoch 00019: saving model to training_simple_nn/cp.ckpt\n",
            "625/625 [==============================] - 5s 8ms/step - loss: 0.0151 - accuracy: 0.9969 - val_loss: 0.8874 - val_accuracy: 0.8556\n",
            "Epoch 20/20\n",
            "623/625 [============================>.] - ETA: 0s - loss: 0.0148 - accuracy: 0.9968\n",
            "Epoch 00020: saving model to training_simple_nn/cp.ckpt\n",
            "625/625 [==============================] - 5s 8ms/step - loss: 0.0148 - accuracy: 0.9969 - val_loss: 0.9821 - val_accuracy: 0.8536\n"
          ],
          "name": "stdout"
        }
      ]
    },
    {
      "cell_type": "code",
      "metadata": {
        "id": "R-fGdGnrJaBl",
        "colab_type": "code",
        "colab": {
          "base_uri": "https://localhost:8080/",
          "height": 265
        },
        "outputId": "a2d14d69-09d9-465c-8488-1c4e1fb76773"
      },
      "source": [
        "plt.plot(range(20), h.history['accuracy'], label='Training')\n",
        "plt.plot(range(20), h.history['val_accuracy'], label='Validation')\n",
        "plt.legend()\n",
        "plt.show()"
      ],
      "execution_count": 50,
      "outputs": [
        {
          "output_type": "display_data",
          "data": {
            "image/png": "[encoded data removed]",
            "text/plain": [
              "<Figure size 432x288 with 1 Axes>"
            ]
          },
          "metadata": {
            "tags": [],
            "needs_background": "light"
          }
        }
      ]
    },
    {
      "cell_type": "code",
      "metadata": {
        "id": "-_GqopBEJ6U6",
        "colab_type": "code",
        "colab": {
          "base_uri": "https://localhost:8080/",
          "height": 51
        },
        "outputId": "05b34e09-24fe-4061-9b46-3e7627af16ac"
      },
      "source": [
        "!ls # Model saved in training_simple_nn\n",
        "# Next download the model from drive and load it in predict.ipynb"
      ],
      "execution_count": 51,
      "outputs": [
        {
          "output_type": "stream",
          "text": [
            "best_model_state.bin  training.1600000.processed.noemoticon.csv\n",
            "kaggle.json\t      training_simple_nn\n"
          ],
          "name": "stdout"
        }
      ]
    },
    {
      "cell_type": "code",
      "metadata": {
        "id": "yl0e8m3kN5YT",
        "colab_type": "code",
        "colab": {}
      },
      "source": [
        ""
      ],
      "execution_count": null,
      "outputs": []
    }
  ]
}