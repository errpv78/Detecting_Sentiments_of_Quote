{
  "nbformat": 4,
  "nbformat_minor": 0,
  "metadata": {
    "colab": {
      "name": "LSTM.ipynb",
      "provenance": []
    },
    "kernelspec": {
      "name": "python3",
      "display_name": "Python 3"
    },
    "accelerator": "GPU"
  },
  "cells": [
    {
      "cell_type": "markdown",
      "metadata": {
        "id": "mQl6T6zkgDTm",
        "colab_type": "text"
      },
      "source": [
        "# Connecting with google drive for dataset from kaggle\n",
        "Dataset used: https://www.kaggle.com/kazanova/sentiment140\n",
        "\n",
        "Downloading dataset into Google drive directly from kaggle and importing data: https://medium.com/analytics-vidhya/how-to-fetch-kaggle-datasets-into-google-colab-ea682569851a"
      ]
    },
    {
      "cell_type": "code",
      "metadata": {
        "id": "-aWYnAu-gNG2",
        "colab_type": "code",
        "colab": {
          "base_uri": "https://localhost:8080/",
          "height": 54
        },
        "outputId": "8b5b0159-c6c1-4a6b-9cf0-49f70a13de1b"
      },
      "source": [
        "from google.colab import drive\n",
        "drive.mount('/content/gdrive')"
      ],
      "execution_count": null,
      "outputs": [
        {
          "output_type": "stream",
          "text": [
            "Drive already mounted at /content/gdrive; to attempt to forcibly remount, call drive.mount(\"/content/gdrive\", force_remount=True).\n"
          ],
          "name": "stdout"
        }
      ]
    },
    {
      "cell_type": "code",
      "metadata": {
        "id": "mNRoG-L5gO-I",
        "colab_type": "code",
        "colab": {}
      },
      "source": [
        "import os\n",
        "os.environ['KAGGLE_CONFIG_DIR'] = \"/content/gdrive/My Drive/Kaggle\"\n",
        "# /content/gdrive/My Drive/Kaggle is the path where kaggle.json is present in the Google Drive"
      ],
      "execution_count": null,
      "outputs": []
    },
    {
      "cell_type": "code",
      "metadata": {
        "id": "N6E7WB2IgQ5j",
        "colab_type": "code",
        "colab": {
          "base_uri": "https://localhost:8080/",
          "height": 34
        },
        "outputId": "899aafcf-e000-425f-a467-aa4ed3ac6bbe"
      },
      "source": [
        "#changing the working directory\n",
        "%cd /content/gdrive/My Drive/Kaggle\n",
        "#Check the present working directory using pwd command"
      ],
      "execution_count": null,
      "outputs": [
        {
          "output_type": "stream",
          "text": [
            "/content/gdrive/My Drive/Kaggle\n"
          ],
          "name": "stdout"
        }
      ]
    },
    {
      "cell_type": "code",
      "metadata": {
        "id": "NwoM8cKjgSrF",
        "colab_type": "code",
        "colab": {
          "base_uri": "https://localhost:8080/",
          "height": 51
        },
        "outputId": "7fc8d250-a161-4879-aae1-932dc90dbc51"
      },
      "source": [
        "!ls"
      ],
      "execution_count": null,
      "outputs": [
        {
          "output_type": "stream",
          "text": [
            "best_model_state.bin  training.1600000.processed.noemoticon.csv\n",
            "kaggle.json\t      training_simple_nn\n"
          ],
          "name": "stdout"
        }
      ]
    },
    {
      "cell_type": "code",
      "metadata": {
        "id": "Oaf7Dzr0gZgD",
        "colab_type": "code",
        "colab": {}
      },
      "source": [
        "import pandas as pd\n",
        "import tensorflow as tf\n",
        "import re\n",
        "import nltk\n",
        "from nltk.corpus import stopwords\n",
        "from nltk.stem.porter import PorterStemmer\n",
        "from sklearn.feature_extraction.text import TfidfVectorizer\n",
        "from sklearn.model_selection import train_test_split\n",
        "from sklearn.feature_extraction.text import CountVectorizer\n",
        "from keras.preprocessing.text import Tokenizer\n",
        "from keras.preprocessing.sequence import pad_sequences\n",
        "from keras.models import Sequential\n",
        "from keras.layers import Dense, Embedding, LSTM\n",
        "from sklearn.model_selection import train_test_split\n",
        "from keras.utils.np_utils import to_categorical\n",
        "import numpy as np"
      ],
      "execution_count": null,
      "outputs": []
    },
    {
      "cell_type": "code",
      "metadata": {
        "id": "HWLQGUaTgfzf",
        "colab_type": "code",
        "colab": {}
      },
      "source": [
        "# Checking if GPU available\n",
        "physical_devices = tf.config.experimental.list_physical_devices(\"GPU\")\n",
        "tf.config.experimental.set_memory_growth(physical_devices[0], True)"
      ],
      "execution_count": null,
      "outputs": []
    },
    {
      "cell_type": "code",
      "metadata": {
        "id": "w5mpjCbpgmmB",
        "colab_type": "code",
        "colab": {
          "base_uri": "https://localhost:8080/",
          "height": 289
        },
        "outputId": "edb6b7c7-02d4-41b8-9fa4-ae07572d3b9d"
      },
      "source": [
        "df = pd.read_csv('training.1600000.processed.noemoticon.csv', encoding='latin1', header=None)\n",
        "df.head()"
      ],
      "execution_count": null,
      "outputs": [
        {
          "output_type": "execute_result",
          "data": {
            "text/html": [
              "<div>\n",
              "<style scoped>\n",
              "    .dataframe tbody tr th:only-of-type {\n",
              "        vertical-align: middle;\n",
              "    }\n",
              "\n",
              "    .dataframe tbody tr th {\n",
              "        vertical-align: top;\n",
              "    }\n",
              "\n",
              "    .dataframe thead th {\n",
              "        text-align: right;\n",
              "    }\n",
              "</style>\n",
              "<table border=\"1\" class=\"dataframe\">\n",
              "  <thead>\n",
              "    <tr style=\"text-align: right;\">\n",
              "      <th></th>\n",
              "      <th>0</th>\n",
              "      <th>1</th>\n",
              "      <th>2</th>\n",
              "      <th>3</th>\n",
              "      <th>4</th>\n",
              "      <th>5</th>\n",
              "    </tr>\n",
              "  </thead>\n",
              "  <tbody>\n",
              "    <tr>\n",
              "      <th>0</th>\n",
              "      <td>0</td>\n",
              "      <td>1467810369</td>\n",
              "      <td>Mon Apr 06 22:19:45 PDT 2009</td>\n",
              "      <td>NO_QUERY</td>\n",
              "      <td>_TheSpecialOne_</td>\n",
              "      <td>@switchfoot http://twitpic.com/2y1zl - Awww, t...</td>\n",
              "    </tr>\n",
              "    <tr>\n",
              "      <th>1</th>\n",
              "      <td>0</td>\n",
              "      <td>1467810672</td>\n",
              "      <td>Mon Apr 06 22:19:49 PDT 2009</td>\n",
              "      <td>NO_QUERY</td>\n",
              "      <td>scotthamilton</td>\n",
              "      <td>is upset that he can't update his Facebook by ...</td>\n",
              "    </tr>\n",
              "    <tr>\n",
              "      <th>2</th>\n",
              "      <td>0</td>\n",
              "      <td>1467810917</td>\n",
              "      <td>Mon Apr 06 22:19:53 PDT 2009</td>\n",
              "      <td>NO_QUERY</td>\n",
              "      <td>mattycus</td>\n",
              "      <td>@Kenichan I dived many times for the ball. Man...</td>\n",
              "    </tr>\n",
              "    <tr>\n",
              "      <th>3</th>\n",
              "      <td>0</td>\n",
              "      <td>1467811184</td>\n",
              "      <td>Mon Apr 06 22:19:57 PDT 2009</td>\n",
              "      <td>NO_QUERY</td>\n",
              "      <td>ElleCTF</td>\n",
              "      <td>my whole body feels itchy and like its on fire</td>\n",
              "    </tr>\n",
              "    <tr>\n",
              "      <th>4</th>\n",
              "      <td>0</td>\n",
              "      <td>1467811193</td>\n",
              "      <td>Mon Apr 06 22:19:57 PDT 2009</td>\n",
              "      <td>NO_QUERY</td>\n",
              "      <td>Karoli</td>\n",
              "      <td>@nationwideclass no, it's not behaving at all....</td>\n",
              "    </tr>\n",
              "  </tbody>\n",
              "</table>\n",
              "</div>"
            ],
            "text/plain": [
              "   0  ...                                                  5\n",
              "0  0  ...  @switchfoot http://twitpic.com/2y1zl - Awww, t...\n",
              "1  0  ...  is upset that he can't update his Facebook by ...\n",
              "2  0  ...  @Kenichan I dived many times for the ball. Man...\n",
              "3  0  ...    my whole body feels itchy and like its on fire \n",
              "4  0  ...  @nationwideclass no, it's not behaving at all....\n",
              "\n",
              "[5 rows x 6 columns]"
            ]
          },
          "metadata": {
            "tags": []
          },
          "execution_count": 93
        }
      ]
    },
    {
      "cell_type": "code",
      "metadata": {
        "id": "CV0dThnLhbVh",
        "colab_type": "code",
        "colab": {
          "base_uri": "https://localhost:8080/",
          "height": 51
        },
        "outputId": "f4e39fd4-4d8f-4509-f7c4-2f2cad38dc44"
      },
      "source": [
        "print('Initial Shape:', df.shape)\n",
        "df = df.iloc[:, [0,5]]\n",
        "df.shape"
      ],
      "execution_count": null,
      "outputs": [
        {
          "output_type": "stream",
          "text": [
            "Initial Shape: (1600000, 6)\n"
          ],
          "name": "stdout"
        },
        {
          "output_type": "execute_result",
          "data": {
            "text/plain": [
              "(1600000, 2)"
            ]
          },
          "metadata": {
            "tags": []
          },
          "execution_count": 94
        }
      ]
    },
    {
      "cell_type": "code",
      "metadata": {
        "id": "36AtPYHLhm7p",
        "colab_type": "code",
        "colab": {
          "base_uri": "https://localhost:8080/",
          "height": 221
        },
        "outputId": "39162af5-2efc-42af-9641-bc99eb509471"
      },
      "source": [
        "df = df.sample(n=10000, random_state=78, replace=False)\n",
        "print(df.shape)\n",
        "df.head()"
      ],
      "execution_count": null,
      "outputs": [
        {
          "output_type": "stream",
          "text": [
            "(10000, 2)\n"
          ],
          "name": "stdout"
        },
        {
          "output_type": "execute_result",
          "data": {
            "text/html": [
              "<div>\n",
              "<style scoped>\n",
              "    .dataframe tbody tr th:only-of-type {\n",
              "        vertical-align: middle;\n",
              "    }\n",
              "\n",
              "    .dataframe tbody tr th {\n",
              "        vertical-align: top;\n",
              "    }\n",
              "\n",
              "    .dataframe thead th {\n",
              "        text-align: right;\n",
              "    }\n",
              "</style>\n",
              "<table border=\"1\" class=\"dataframe\">\n",
              "  <thead>\n",
              "    <tr style=\"text-align: right;\">\n",
              "      <th></th>\n",
              "      <th>0</th>\n",
              "      <th>5</th>\n",
              "    </tr>\n",
              "  </thead>\n",
              "  <tbody>\n",
              "    <tr>\n",
              "      <th>1238240</th>\n",
              "      <td>4</td>\n",
              "      <td>@kitty_k4t kletterwald in kassel  bec tomorrow...</td>\n",
              "    </tr>\n",
              "    <tr>\n",
              "      <th>814974</th>\n",
              "      <td>4</td>\n",
              "      <td>@JoshPyke, Radio 2 session was beautiful.</td>\n",
              "    </tr>\n",
              "    <tr>\n",
              "      <th>1089986</th>\n",
              "      <td>4</td>\n",
              "      <td>counting stars and sheep and trading thoughts ...</td>\n",
              "    </tr>\n",
              "    <tr>\n",
              "      <th>1510136</th>\n",
              "      <td>4</td>\n",
              "      <td>Sleepy bear requires a little fox For soothing...</td>\n",
              "    </tr>\n",
              "    <tr>\n",
              "      <th>1343137</th>\n",
              "      <td>4</td>\n",
              "      <td>goin to thefuck bed, goodnight  really good ni...</td>\n",
              "    </tr>\n",
              "  </tbody>\n",
              "</table>\n",
              "</div>"
            ],
            "text/plain": [
              "         0                                                  5\n",
              "1238240  4  @kitty_k4t kletterwald in kassel  bec tomorrow...\n",
              "814974   4        @JoshPyke, Radio 2 session was beautiful.  \n",
              "1089986  4  counting stars and sheep and trading thoughts ...\n",
              "1510136  4  Sleepy bear requires a little fox For soothing...\n",
              "1343137  4  goin to thefuck bed, goodnight  really good ni..."
            ]
          },
          "metadata": {
            "tags": []
          },
          "execution_count": 95
        }
      ]
    },
    {
      "cell_type": "code",
      "metadata": {
        "id": "_ekc4UtQhnDG",
        "colab_type": "code",
        "colab": {
          "base_uri": "https://localhost:8080/",
          "height": 204
        },
        "outputId": "07fe522a-2761-45ff-f9e3-df9727c4a59e"
      },
      "source": [
        "df.columns = ['label', 'text']\n",
        "for i, row in df.iterrows():\n",
        "    if row[0]==4:\n",
        "        df.at[i,'label'] = 1\n",
        "\n",
        "df.head()"
      ],
      "execution_count": null,
      "outputs": [
        {
          "output_type": "execute_result",
          "data": {
            "text/html": [
              "<div>\n",
              "<style scoped>\n",
              "    .dataframe tbody tr th:only-of-type {\n",
              "        vertical-align: middle;\n",
              "    }\n",
              "\n",
              "    .dataframe tbody tr th {\n",
              "        vertical-align: top;\n",
              "    }\n",
              "\n",
              "    .dataframe thead th {\n",
              "        text-align: right;\n",
              "    }\n",
              "</style>\n",
              "<table border=\"1\" class=\"dataframe\">\n",
              "  <thead>\n",
              "    <tr style=\"text-align: right;\">\n",
              "      <th></th>\n",
              "      <th>label</th>\n",
              "      <th>text</th>\n",
              "    </tr>\n",
              "  </thead>\n",
              "  <tbody>\n",
              "    <tr>\n",
              "      <th>1238240</th>\n",
              "      <td>1</td>\n",
              "      <td>@kitty_k4t kletterwald in kassel  bec tomorrow...</td>\n",
              "    </tr>\n",
              "    <tr>\n",
              "      <th>814974</th>\n",
              "      <td>1</td>\n",
              "      <td>@JoshPyke, Radio 2 session was beautiful.</td>\n",
              "    </tr>\n",
              "    <tr>\n",
              "      <th>1089986</th>\n",
              "      <td>1</td>\n",
              "      <td>counting stars and sheep and trading thoughts ...</td>\n",
              "    </tr>\n",
              "    <tr>\n",
              "      <th>1510136</th>\n",
              "      <td>1</td>\n",
              "      <td>Sleepy bear requires a little fox For soothing...</td>\n",
              "    </tr>\n",
              "    <tr>\n",
              "      <th>1343137</th>\n",
              "      <td>1</td>\n",
              "      <td>goin to thefuck bed, goodnight  really good ni...</td>\n",
              "    </tr>\n",
              "  </tbody>\n",
              "</table>\n",
              "</div>"
            ],
            "text/plain": [
              "         label                                               text\n",
              "1238240      1  @kitty_k4t kletterwald in kassel  bec tomorrow...\n",
              "814974       1        @JoshPyke, Radio 2 session was beautiful.  \n",
              "1089986      1  counting stars and sheep and trading thoughts ...\n",
              "1510136      1  Sleepy bear requires a little fox For soothing...\n",
              "1343137      1  goin to thefuck bed, goodnight  really good ni..."
            ]
          },
          "metadata": {
            "tags": []
          },
          "execution_count": 96
        }
      ]
    },
    {
      "cell_type": "code",
      "metadata": {
        "id": "463ggpp8hxsp",
        "colab_type": "code",
        "colab": {
          "base_uri": "https://localhost:8080/",
          "height": 52
        },
        "outputId": "a6126510-d745-4cf7-9f57-554dc1d0800d"
      },
      "source": [
        "df['label'].value_counts()\n",
        "max(len(i) for i in df['text'])\n",
        "len(df)\n",
        "df.iloc[6]['text']"
      ],
      "execution_count": null,
      "outputs": [
        {
          "output_type": "execute_result",
          "data": {
            "application/vnd.google.colaboratory.intrinsic+json": {
              "type": "string"
            },
            "text/plain": [
              "'Home from FL. Amazing how vacation time passes so much more quickly than &quot;regular&quot; time.  Already making plans 4 next trip 2 Sanibel.'"
            ]
          },
          "metadata": {
            "tags": []
          },
          "execution_count": 97
        }
      ]
    },
    {
      "cell_type": "markdown",
      "metadata": {
        "id": "V93eup3qhLmW",
        "colab_type": "text"
      },
      "source": [
        "## Text Preprocessing\n",
        "\n",
        "1. Removing unrequired text like urls, hashtags, social media entities, stopwords\n",
        "\n",
        "2. Lexicon Normalization write, writing, written etc, are all different variations of write"
      ]
    },
    {
      "cell_type": "code",
      "metadata": {
        "id": "2sCULkQCgv_c",
        "colab_type": "code",
        "colab": {
          "base_uri": "https://localhost:8080/",
          "height": 51
        },
        "outputId": "7fbca806-c344-49c9-bbfa-8be7711559db"
      },
      "source": [
        "nltk.download('stopwords')\n",
        "corpus = []\n",
        "for i, row in df.iterrows():\n",
        "    text = re.sub('[^a-zA-Z]', ' ', df.at[i, 'text'])\n",
        "    text = text.lower()\n",
        "    text = text.split()\n",
        "    ps = PorterStemmer()\n",
        "    text = [ps.stem(word) for word in text if not word in set(stopwords.words('english'))]\n",
        "    text = ' '.join(text)\n",
        "    df.at[i, 'text'] = text"
      ],
      "execution_count": null,
      "outputs": [
        {
          "output_type": "stream",
          "text": [
            "[nltk_data] Downloading package stopwords to /root/nltk_data...\n",
            "[nltk_data]   Package stopwords is already up-to-date!\n"
          ],
          "name": "stdout"
        }
      ]
    },
    {
      "cell_type": "code",
      "metadata": {
        "id": "YGyCBGn-mxgX",
        "colab_type": "code",
        "colab": {
          "base_uri": "https://localhost:8080/",
          "height": 204
        },
        "outputId": "08f3cb5a-6500-4575-9399-ca44b7fa8342"
      },
      "source": [
        "df.head()"
      ],
      "execution_count": null,
      "outputs": [
        {
          "output_type": "execute_result",
          "data": {
            "text/html": [
              "<div>\n",
              "<style scoped>\n",
              "    .dataframe tbody tr th:only-of-type {\n",
              "        vertical-align: middle;\n",
              "    }\n",
              "\n",
              "    .dataframe tbody tr th {\n",
              "        vertical-align: top;\n",
              "    }\n",
              "\n",
              "    .dataframe thead th {\n",
              "        text-align: right;\n",
              "    }\n",
              "</style>\n",
              "<table border=\"1\" class=\"dataframe\">\n",
              "  <thead>\n",
              "    <tr style=\"text-align: right;\">\n",
              "      <th></th>\n",
              "      <th>label</th>\n",
              "      <th>text</th>\n",
              "    </tr>\n",
              "  </thead>\n",
              "  <tbody>\n",
              "    <tr>\n",
              "      <th>1238240</th>\n",
              "      <td>1</td>\n",
              "      <td>kitti k kletterwald kassel bec tomorrow good luck</td>\n",
              "    </tr>\n",
              "    <tr>\n",
              "      <th>814974</th>\n",
              "      <td>1</td>\n",
              "      <td>joshpyk radio session beauti</td>\n",
              "    </tr>\n",
              "    <tr>\n",
              "      <th>1089986</th>\n",
              "      <td>1</td>\n",
              "      <td>count star sheep trade thought dream forget ze...</td>\n",
              "    </tr>\n",
              "    <tr>\n",
              "      <th>1510136</th>\n",
              "      <td>1</td>\n",
              "      <td>sleepi bear requir littl fox sooth cuddl appli</td>\n",
              "    </tr>\n",
              "    <tr>\n",
              "      <th>1343137</th>\n",
              "      <td>1</td>\n",
              "      <td>goin thefuck bed goodnight realli good night c...</td>\n",
              "    </tr>\n",
              "  </tbody>\n",
              "</table>\n",
              "</div>"
            ],
            "text/plain": [
              "         label                                               text\n",
              "1238240      1  kitti k kletterwald kassel bec tomorrow good luck\n",
              "814974       1                       joshpyk radio session beauti\n",
              "1089986      1  count star sheep trade thought dream forget ze...\n",
              "1510136      1     sleepi bear requir littl fox sooth cuddl appli\n",
              "1343137      1  goin thefuck bed goodnight realli good night c..."
            ]
          },
          "metadata": {
            "tags": []
          },
          "execution_count": 99
        }
      ]
    },
    {
      "cell_type": "code",
      "metadata": {
        "id": "OB_Be1OcjXhH",
        "colab_type": "code",
        "colab": {
          "base_uri": "https://localhost:8080/",
          "height": 105
        },
        "outputId": "b76f4c82-bb12-4d37-dcaf-10b729065061"
      },
      "source": [
        "# Padding Sequences so that all are of same length\n",
        "max_fatures = 30000\n",
        "tokenizer = Tokenizer(nb_words=max_fatures, split=' ')\n",
        "tokenizer.fit_on_texts(df['text'].values)\n",
        "x = tokenizer.texts_to_sequences(df['text'].values)\n",
        "x = pad_sequences(x)\n",
        "y = pd.get_dummies(df['label'])\n",
        "x_train, x_test, y_train, y_test = train_test_split(x,y, random_state = 42)\n",
        "print(x_train.shape,y_train.shape)\n",
        "print(x_test.shape,y_test.shape)"
      ],
      "execution_count": null,
      "outputs": [
        {
          "output_type": "stream",
          "text": [
            "/usr/local/lib/python3.6/dist-packages/keras_preprocessing/text.py:180: UserWarning: The `nb_words` argument in `Tokenizer` has been renamed `num_words`.\n",
            "  warnings.warn('The `nb_words` argument in `Tokenizer` '\n"
          ],
          "name": "stderr"
        },
        {
          "output_type": "stream",
          "text": [
            "(7500, 25) (7500, 2)\n",
            "(2500, 25) (2500, 2)\n"
          ],
          "name": "stdout"
        }
      ]
    },
    {
      "cell_type": "code",
      "metadata": {
        "id": "68t6bESKmhDF",
        "colab_type": "code",
        "colab": {
          "base_uri": "https://localhost:8080/",
          "height": 360
        },
        "outputId": "65d44ec9-3862-4eab-cb0f-c1ce47b85407"
      },
      "source": [
        "embed_dim = 150\n",
        "lstm_out = 200\n",
        "model = Sequential()\n",
        "model.add(Embedding(max_fatures, embed_dim,input_length = x.shape[1], dropout=0.2))\n",
        "model.add(LSTM(lstm_out, dropout_U=0.2,dropout_W=0.2))\n",
        "model.add(Dense(2,activation='softmax'))\n",
        "model.compile(loss = 'categorical_crossentropy', optimizer='adam',metrics = ['accuracy'])\n",
        "print(model.summary())"
      ],
      "execution_count": null,
      "outputs": [
        {
          "output_type": "stream",
          "text": [
            "/usr/local/lib/python3.6/dist-packages/ipykernel_launcher.py:4: UserWarning: The `dropout` argument is no longer support in `Embedding`. You can apply a `keras.layers.SpatialDropout1D` layer right after the `Embedding` layer to get the same behavior.\n",
            "  after removing the cwd from sys.path.\n",
            "/usr/local/lib/python3.6/dist-packages/ipykernel_launcher.py:5: UserWarning: Update your `LSTM` call to the Keras 2 API: `LSTM(200, dropout=0.2, recurrent_dropout=0.2)`\n",
            "  \"\"\"\n"
          ],
          "name": "stderr"
        },
        {
          "output_type": "stream",
          "text": [
            "Model: \"sequential_3\"\n",
            "_________________________________________________________________\n",
            "Layer (type)                 Output Shape              Param #   \n",
            "=================================================================\n",
            "embedding_3 (Embedding)      (None, 25, 150)           4500000   \n",
            "_________________________________________________________________\n",
            "lstm_3 (LSTM)                (None, 200)               280800    \n",
            "_________________________________________________________________\n",
            "dense_3 (Dense)              (None, 2)                 402       \n",
            "=================================================================\n",
            "Total params: 4,781,202\n",
            "Trainable params: 4,781,202\n",
            "Non-trainable params: 0\n",
            "_________________________________________________________________\n",
            "None\n"
          ],
          "name": "stdout"
        }
      ]
    },
    {
      "cell_type": "code",
      "metadata": {
        "id": "KlJpQfkupMCf",
        "colab_type": "code",
        "colab": {
          "base_uri": "https://localhost:8080/",
          "height": 411
        },
        "outputId": "ff704deb-3a1d-4c29-9440-98aebb2b4264"
      },
      "source": [
        "checkpoint_path = \"lstm/cp.ckpt\"\n",
        "checkpoint_dir = os.path.dirname(checkpoint_path)\n",
        "\n",
        "# Create a callback that saves the model's weights\n",
        "cp_callback = tf.keras.callbacks.ModelCheckpoint(filepath=checkpoint_path,\n",
        "                                                 save_weights_only=True,\n",
        "                                                 verbose=1)\n",
        "\n",
        "\n",
        "h = model.fit(\n",
        "    x_train, y_train,\n",
        "    epochs=10,\n",
        "    batch_size = batch_size\n",
        ")"
      ],
      "execution_count": null,
      "outputs": [
        {
          "output_type": "stream",
          "text": [
            "/usr/local/lib/python3.6/dist-packages/tensorflow/python/framework/indexed_slices.py:434: UserWarning: Converting sparse IndexedSlices to a dense Tensor of unknown shape. This may consume a large amount of memory.\n",
            "  \"Converting sparse IndexedSlices to a dense Tensor of unknown shape. \"\n"
          ],
          "name": "stderr"
        },
        {
          "output_type": "stream",
          "text": [
            "Epoch 1/10\n",
            "7500/7500 [==============================] - 23s 3ms/step - loss: 0.6113 - accuracy: 0.6569\n",
            "Epoch 2/10\n",
            "7500/7500 [==============================] - 23s 3ms/step - loss: 0.4046 - accuracy: 0.8281\n",
            "Epoch 3/10\n",
            "7500/7500 [==============================] - 23s 3ms/step - loss: 0.2318 - accuracy: 0.9128\n",
            "Epoch 4/10\n",
            "7500/7500 [==============================] - 23s 3ms/step - loss: 0.1211 - accuracy: 0.9560\n",
            "Epoch 5/10\n",
            "7500/7500 [==============================] - 23s 3ms/step - loss: 0.0709 - accuracy: 0.9751\n",
            "Epoch 6/10\n",
            "7500/7500 [==============================] - 22s 3ms/step - loss: 0.0490 - accuracy: 0.9831\n",
            "Epoch 7/10\n",
            "7500/7500 [==============================] - 22s 3ms/step - loss: 0.0343 - accuracy: 0.9880\n",
            "Epoch 8/10\n",
            "7500/7500 [==============================] - 22s 3ms/step - loss: 0.0279 - accuracy: 0.9911\n",
            "Epoch 9/10\n",
            "7500/7500 [==============================] - 23s 3ms/step - loss: 0.0240 - accuracy: 0.9912\n",
            "Epoch 10/10\n",
            "7500/7500 [==============================] - 22s 3ms/step - loss: 0.0179 - accuracy: 0.9944\n"
          ],
          "name": "stdout"
        }
      ]
    },
    {
      "cell_type": "code",
      "metadata": {
        "id": "JkG0lymorrm0",
        "colab_type": "code",
        "colab": {
          "base_uri": "https://localhost:8080/",
          "height": 68
        },
        "outputId": "f58f278c-7c96-415b-93aa-fa71d84992d4"
      },
      "source": [
        "score,acc = model.evaluate(x_test, y_test, batch_size = batch_size)\n",
        "print(\"score: %.2f\" % (score))\n",
        "print(\"acc: %.2f\" % (acc))"
      ],
      "execution_count": null,
      "outputs": [
        {
          "output_type": "stream",
          "text": [
            "2500/2500 [==============================] - 1s 378us/step\n",
            "score: 1.85\n",
            "acc: 0.68\n"
          ],
          "name": "stdout"
        }
      ]
    },
    {
      "cell_type": "code",
      "metadata": {
        "id": "vE5xSnelv5F2",
        "colab_type": "code",
        "colab": {
          "base_uri": "https://localhost:8080/",
          "height": 102
        },
        "outputId": "60016fa1-ce92-4038-ff4c-f4e97ddb8a76"
      },
      "source": [
        "print(x_test.shape)\n",
        "print(y_test.shape)\n",
        "print(y_test.iloc[3])"
      ],
      "execution_count": null,
      "outputs": [
        {
          "output_type": "stream",
          "text": [
            "(2500, 25)\n",
            "(2500, 2)\n",
            "0    1\n",
            "1    0\n",
            "Name: 287, dtype: uint8\n"
          ],
          "name": "stdout"
        }
      ]
    },
    {
      "cell_type": "code",
      "metadata": {
        "id": "_vv3xVNftQVf",
        "colab_type": "code",
        "colab": {
          "base_uri": "https://localhost:8080/",
          "height": 51
        },
        "outputId": "897c02be-ef82-474f-90da-ff15eda8b5e5"
      },
      "source": [
        "pos_cnt, neg_cnt, pos_correct, neg_correct = 0, 0, 0, 0\n",
        "for x in range(len(x_test)):\n",
        "    \n",
        "    result = model.predict(x_test[x].reshape(1,x_test.shape[1]),batch_size=1,verbose = 2)[0]\n",
        "    \n",
        "    # print(result)\n",
        "    # print(x)\n",
        "    \n",
        "    # print(y_test[x])\n",
        "    # print(np.argmax(result))\n",
        "\n",
        "    if np.argmax(result) == np.argmax(y_test.iloc[x]):\n",
        "        if np.argmax(y_test.iloc[x]) == 0:\n",
        "            neg_correct += 1\n",
        "        else:\n",
        "            pos_correct += 1\n",
        "       \n",
        "    if np.argmax(y_test.iloc[x]) == 0:\n",
        "        neg_cnt += 1\n",
        "    else:\n",
        "        pos_cnt += 1\n",
        "    # break\n",
        "# print(result)\n",
        "\n",
        "print(\"pos_acc\", pos_correct/pos_cnt*100, \"%\")\n",
        "print(\"neg_acc\", neg_correct/neg_cnt*100, \"%\")"
      ],
      "execution_count": null,
      "outputs": [
        {
          "output_type": "stream",
          "text": [
            "pos_acc 68.55753646677472 %\n",
            "neg_acc 66.58767772511848 %\n"
          ],
          "name": "stdout"
        }
      ]
    },
    {
      "cell_type": "code",
      "metadata": {
        "id": "PGPBtExWuKdE",
        "colab_type": "code",
        "colab": {}
      },
      "source": [
        "model.save('lstm_model.h5')"
      ],
      "execution_count": null,
      "outputs": []
    },
    {
      "cell_type": "code",
      "metadata": {
        "id": "IRmW-orBuOCz",
        "colab_type": "code",
        "colab": {
          "base_uri": "https://localhost:8080/",
          "height": 68
        },
        "outputId": "e8a7182d-e6e7-4913-a093-a86c50f009e1"
      },
      "source": [
        "!ls"
      ],
      "execution_count": null,
      "outputs": [
        {
          "output_type": "stream",
          "text": [
            "best_model_state.bin  training.1600000.processed.noemoticon.csv\n",
            "kaggle.json\t      training_simple_nn\n",
            "lstm_model.h5\n"
          ],
          "name": "stdout"
        }
      ]
    },
    {
      "cell_type": "code",
      "metadata": {
        "id": "OkzpdI9rxRMK",
        "colab_type": "code",
        "colab": {}
      },
      "source": [
        ""
      ],
      "execution_count": null,
      "outputs": []
    }
  ]
}